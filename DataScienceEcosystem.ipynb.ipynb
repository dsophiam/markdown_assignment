{
 "cells": [
  {
   "cell_type": "markdown",
   "id": "d96c95c4-f03d-4edf-b4c9-c9aa9f426626",
   "metadata": {},
   "source": [
    "# Data Science Tools and Ecosystem"
   ]
  },
  {
   "cell_type": "markdown",
   "id": "284b33af-53f0-4615-919f-06ea834778b2",
   "metadata": {},
   "source": [
    "## Author\n",
    "Sophia Mobley"
   ]
  },
  {
   "cell_type": "markdown",
   "id": "eb75ea89-1ba0-468f-a9ab-c1ed00b2de5e",
   "metadata": {},
   "source": [
    "In this notebook, Data Science Tools and Ecosystem are summarized."
   ]
  },
  {
   "cell_type": "markdown",
   "id": "aba3cb81-d578-46e6-a9ad-44639c2a8195",
   "metadata": {},
   "source": [
    "**Objectives:**\n",
    "- List popular languages that Data Scientists use\n",
    "- List libraries commonly used by Data Scientits\n",
    "- List tools commonly used by Data Scientists "
   ]
  },
  {
   "cell_type": "markdown",
   "id": "5c4b8c2f-c4a5-42b8-beb2-3af54a470e39",
   "metadata": {},
   "source": [
    "Some of the popular languages that Data Scientists use are:\n",
    "\n",
    "1. Python\n",
    "2. R\n",
    "3. SQL\n",
    "4. JavaScript\n"
   ]
  },
  {
   "cell_type": "markdown",
   "id": "83d1ed70-7057-4962-8d92-601028434a2b",
   "metadata": {},
   "source": [
    "Some of the commonly used libraries used by Data Scientists include:\n",
    "\n",
    "1. TensorFlow\n",
    "2. NumPy\n",
    "3. Pandas\n",
    "4. MatPlotLib\n",
    "5. SciPi\n",
    "\n"
   ]
  },
  {
   "cell_type": "markdown",
   "id": "79dda811-4d89-48a4-856e-05632f67c1e7",
   "metadata": {},
   "source": [
    "| Data Science Tools |\n",
    "| ------------------ |\n",
    "| RStudio |\n",
    "| Apache Spark |\n",
    "| Jupyter Notebook |"
   ]
  },
  {
   "cell_type": "markdown",
   "id": "928ac1fb-c0c0-469a-96e6-1bc0a674becd",
   "metadata": {},
   "source": [
    "### Below are a few examples of evaluating arithmetic expressions in Python.\n"
   ]
  },
  {
   "cell_type": "code",
   "execution_count": 4,
   "id": "9cfa1f67-266e-47ac-8a8d-d884af6820e5",
   "metadata": {
    "tags": []
   },
   "outputs": [
    {
     "data": {
      "text/plain": [
       "17"
      ]
     },
     "execution_count": 4,
     "metadata": {},
     "output_type": "execute_result"
    }
   ],
   "source": [
    "#This a simple arithmetic expression to mutiply then add integers.\n",
    "(3*4)+5"
   ]
  },
  {
   "cell_type": "code",
   "execution_count": 5,
   "id": "81d6bd99-f213-402b-a785-1da7e461021a",
   "metadata": {
    "tags": []
   },
   "outputs": [
    {
     "data": {
      "text/plain": [
       "3.3333333333333335"
      ]
     },
     "execution_count": 5,
     "metadata": {},
     "output_type": "execute_result"
    }
   ],
   "source": [
    "# This will convert 200 minutes to hours by diving by 60\n",
    "200/60"
   ]
  },
  {
   "cell_type": "code",
   "execution_count": null,
   "id": "092edc8d-a6f4-4ddd-9124-b82f8f5704b9",
   "metadata": {},
   "outputs": [],
   "source": []
  }
 ],
 "metadata": {
  "kernelspec": {
   "display_name": "Python",
   "language": "python",
   "name": "conda-env-python-py"
  },
  "language_info": {
   "codemirror_mode": {
    "name": "ipython",
    "version": 3
   },
   "file_extension": ".py",
   "mimetype": "text/x-python",
   "name": "python",
   "nbconvert_exporter": "python",
   "pygments_lexer": "ipython3",
   "version": "3.7.12"
  }
 },
 "nbformat": 4,
 "nbformat_minor": 5
}
